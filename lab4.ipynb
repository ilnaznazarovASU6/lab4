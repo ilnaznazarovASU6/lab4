{
 "cells": [
  {
   "cell_type": "code",
   "execution_count": 8,
   "metadata": {},
   "outputs": [
    {
     "name": "stdout",
     "output_type": "stream",
     "text": [
      "car(Марка: Лада, Модель: Гранта, Скорость: 120, Стоимость: 800000)\n",
      "Присвоено скорость: 180\n",
      "Присвоена цена: 1 200 000\n",
      "Модель изменена на: Веста\n",
      "car(Марка: Лада, Модель: Веста, Скорость: 180, Стоимость: 1 200 000)\n"
     ]
    }
   ],
   "source": [
    "class car:  # Создание класса \"car\"\n",
    "    def __init__(self,  name, model, speed, price):\n",
    "        self.name = name\n",
    "        self.model = model\n",
    "        self.speed = speed\n",
    "        self.price = price\n",
    "\n",
    "    def setspeed(self, speed):  # Функция, предназначеная для присвоения данных объекту\n",
    "        self.speed = speed\n",
    "        print('Присвоено скорость:', speed)\n",
    "\n",
    "    def setprice(self, price):\n",
    "        self.price = price\n",
    "        print('Присвоена цена:', price)\n",
    "\n",
    "    def setmodel (self, model):\n",
    "        self.model = model\n",
    "        print('Модель изменена на:', model)\n",
    "\n",
    "    def __repr__(self): # Может возращать как строки, так и словари\n",
    "        return {'Марка ': self.name, 'Модель ': self.model, 'Скорость: ' : self.speed,\n",
    "                'Стоимость: ' : self.price}\n",
    "\n",
    "    def __str__(self): # Возвращает строки\n",
    "        return 'car(Марка: ' + self.name + ', Модель: ' + self.model + ', Скорость: ' + self.speed+\\\n",
    "               ', Стоимость: ' + self.price + ')'\n",
    "\n",
    "\n",
    "\n",
    "example = car('Лада', 'Гранта', '120', '800000')\n",
    "print (example)\n",
    "\n",
    "example.setspeed('180')\n",
    "example.setprice('1 200 000')\n",
    "example.setmodel('Веста')\n",
    "\n",
    "print (example)\n"
   ]
  },
  {
   "cell_type": "code",
   "execution_count": null,
   "metadata": {},
   "outputs": [],
   "source": []
  }
 ],
 "metadata": {
  "kernelspec": {
   "display_name": "Python 3.10.7 64-bit",
   "language": "python",
   "name": "python3"
  },
  "language_info": {
   "codemirror_mode": {
    "name": "ipython",
    "version": 3
   },
   "file_extension": ".py",
   "mimetype": "text/x-python",
   "name": "python",
   "nbconvert_exporter": "python",
   "pygments_lexer": "ipython3",
   "version": "3.10.7"
  },
  "orig_nbformat": 4,
  "vscode": {
   "interpreter": {
    "hash": "53deb62837a1bbf61a128ad387459ffc026c380ebea8dab6eb576b0da381b4f1"
   }
  }
 },
 "nbformat": 4,
 "nbformat_minor": 2
}
